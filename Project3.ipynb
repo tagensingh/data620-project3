{
 "cells": [
  {
   "cell_type": "markdown",
   "metadata": {},
   "source": [
    "CUNY MSDS DATA620 - Web Analytics\n",
    "Project 3 | Build the best name gender classifier you can\n",
    "Prof: Alain Ledon\n",
    "Team1 : Tage Singh, Deepak Sharma, Ramnivas Singh\n",
    "Objective:\n",
    "\n",
    "Using any of the three classifiers described in chapter 6 of Natural Language Processing with Python, and any features you can think of, build the best name gender classifier you can.\n",
    "\n",
    "Begin by splitting the Names Corpus into three subsets: 500 words for the test set, 500 words for the devtest set, and the remaining 6900 words for the training set. Then, starting with the example name gender classifier, make incremental improvements. Use the dev-test set to check your progress. Once you are satisfied with your classifier, check its final performance on the test set.\n",
    "\n",
    "How does the performance on the test set compare to the performance on the dev-test set? Is this what you'd expect?"
   ]
  },
  {
   "cell_type": "code",
   "execution_count": 1,
   "metadata": {},
   "outputs": [],
   "source": [
    "# library imports\n",
    "import random\n",
    "import re\n",
    "import string\n",
    "import nltk\n",
    "from collections import Counter\n",
    "from nltk import download\n",
    "from nltk.corpus import names\n",
    "from nltk.util import ngrams\n",
    "from nltk.tokenize.sonority_sequencing import SyllableTokenizer\n",
    "from nltk import NaiveBayesClassifier\n",
    "from nltk import classify\n",
    "import matplotlib.pyplot as plt\n",
    "import seaborn as sns\n",
    "\n",
    "import pandas as pd\n",
    "import numpy as np\n",
    "\n",
    "# jupyter setup\n",
    "from IPython.core.interactiveshell import InteractiveShell\n",
    "InteractiveShell.ast_node_interactivity = \"all\"\n",
    "\n",
    "%matplotlib inline"
   ]
  },
  {
   "cell_type": "markdown",
   "metadata": {},
   "source": [
    "# Data Loading/Preparation\n",
    "    In the following cells, we will be loading the corpus into memory, labelling all of the names, and then randomizing the list of names for later use. Randomizing the names will ensure that our training/test sets will contain both genders from which we should be able to create numerous features from."
   ]
  },
  {
   "cell_type": "code",
   "execution_count": 2,
   "metadata": {},
   "outputs": [
    {
     "data": {
      "text/plain": [
       "[]"
      ]
     },
     "execution_count": 2,
     "metadata": {},
     "output_type": "execute_result"
    },
    {
     "data": {
      "text/plain": [
       "[]"
      ]
     },
     "execution_count": 2,
     "metadata": {},
     "output_type": "execute_result"
    }
   ],
   "source": [
    "# read in names from the files\n",
    "# label each name with corresponding gender\n",
    "# names to be lowercase for easy recognition \n",
    "\n",
    "males = [(name.lower().strip(), 'male') for name in names.words('male.txt')]\n",
    "\n",
    "females = [(name.lower().strip(), 'female') for name in names.words('female.txt')]\n",
    "\n",
    "#Remove unisex names from each list.This will be useful when we run this with modelling to remove any discrepancies arising with training vs. test data.\n",
    "unisex = list(set(males) & set(females))\n",
    "[males.remove(name) for name in unisex]\n",
    "[females.remove(name) for name in unisex]\n",
    "\n",
    "# combine lists of names\n",
    "all_names = males + females\n",
    "\n",
    "\n",
    "# randomize the list\n",
    "random.seed(5)\n",
    "random.shuffle(all_names)"
   ]
  },
  {
   "cell_type": "markdown",
   "metadata": {},
   "source": [
    "# Feature Creation\n",
    "      Features are the most important part of what goes into a machine learning model. For that reason, it is critically important to try to come up with features that make the most sense in identifying gender differences   in names. To make creation and analysis easier, we will put our data in a Pandas dataframe."
   ]
  },
  {
   "cell_type": "code",
   "execution_count": 3,
   "metadata": {},
   "outputs": [
    {
     "data": {
      "text/html": [
       "<div>\n",
       "<style scoped>\n",
       "    .dataframe tbody tr th:only-of-type {\n",
       "        vertical-align: middle;\n",
       "    }\n",
       "\n",
       "    .dataframe tbody tr th {\n",
       "        vertical-align: top;\n",
       "    }\n",
       "\n",
       "    .dataframe thead th {\n",
       "        text-align: right;\n",
       "    }\n",
       "</style>\n",
       "<table border=\"1\" class=\"dataframe\">\n",
       "  <thead>\n",
       "    <tr style=\"text-align: right;\">\n",
       "      <th></th>\n",
       "      <th>name</th>\n",
       "      <th>gender</th>\n",
       "    </tr>\n",
       "  </thead>\n",
       "  <tbody>\n",
       "    <tr>\n",
       "      <th>0</th>\n",
       "      <td>dasi</td>\n",
       "      <td>female</td>\n",
       "    </tr>\n",
       "    <tr>\n",
       "      <th>1</th>\n",
       "      <td>marius</td>\n",
       "      <td>male</td>\n",
       "    </tr>\n",
       "    <tr>\n",
       "      <th>2</th>\n",
       "      <td>marlene</td>\n",
       "      <td>female</td>\n",
       "    </tr>\n",
       "    <tr>\n",
       "      <th>3</th>\n",
       "      <td>margaret</td>\n",
       "      <td>female</td>\n",
       "    </tr>\n",
       "    <tr>\n",
       "      <th>4</th>\n",
       "      <td>nickie</td>\n",
       "      <td>female</td>\n",
       "    </tr>\n",
       "  </tbody>\n",
       "</table>\n",
       "</div>"
      ],
      "text/plain": [
       "       name  gender\n",
       "0      dasi  female\n",
       "1    marius    male\n",
       "2   marlene  female\n",
       "3  margaret  female\n",
       "4    nickie  female"
      ]
     },
     "execution_count": 3,
     "metadata": {},
     "output_type": "execute_result"
    }
   ],
   "source": [
    "# create dataframe\n",
    "\n",
    "data= pd.DataFrame(all_names, columns=['name','gender'])\n",
    "data.head()\n",
    "\n"
   ]
  },
  {
   "cell_type": "markdown",
   "metadata": {},
   "source": [
    "# Divide Data"
   ]
  },
  {
   "cell_type": "code",
   "execution_count": 4,
   "metadata": {},
   "outputs": [],
   "source": [
    "test_names = all_names[:500]\n",
    "devtest_names = all_names[500:1000]\n",
    "train_names = all_names[1000:]"
   ]
  },
  {
   "cell_type": "markdown",
   "metadata": {},
   "source": [
    "#Count of test, development, training names"
   ]
  },
  {
   "cell_type": "code",
   "execution_count": 5,
   "metadata": {},
   "outputs": [
    {
     "name": "stdout",
     "output_type": "stream",
     "text": [
      "500 500 6944 7944\n"
     ]
    }
   ],
   "source": [
    "print (len(test_names), len(devtest_names), len(train_names), len(all_names))"
   ]
  },
  {
   "cell_type": "markdown",
   "metadata": {},
   "source": [
    "# Some Data Exploraition"
   ]
  },
  {
   "cell_type": "markdown",
   "metadata": {},
   "source": [
    "# Data Exploration\n",
    "    Lets get a better feel for how our data is composed. In this exploration step, we will confirm whether any of the features we created will become good predictors of gender. Exploration will occur both visually as well as computationally."
   ]
  },
  {
   "cell_type": "code",
   "execution_count": 6,
   "metadata": {},
   "outputs": [
    {
     "data": {
      "text/html": [
       "<div>\n",
       "<style scoped>\n",
       "    .dataframe tbody tr th:only-of-type {\n",
       "        vertical-align: middle;\n",
       "    }\n",
       "\n",
       "    .dataframe tbody tr th {\n",
       "        vertical-align: top;\n",
       "    }\n",
       "\n",
       "    .dataframe thead th {\n",
       "        text-align: right;\n",
       "    }\n",
       "</style>\n",
       "<table border=\"1\" class=\"dataframe\">\n",
       "  <thead>\n",
       "    <tr style=\"text-align: right;\">\n",
       "      <th></th>\n",
       "      <th>name</th>\n",
       "      <th>gender</th>\n",
       "      <th>length</th>\n",
       "      <th>first_letter</th>\n",
       "      <th>last_letter</th>\n",
       "      <th>consonants</th>\n",
       "      <th>vowel_last_letter</th>\n",
       "      <th>vowel_first_letter</th>\n",
       "      <th>vowels</th>\n",
       "      <th>vowel_count</th>\n",
       "      <th>consonant_count</th>\n",
       "    </tr>\n",
       "  </thead>\n",
       "  <tbody>\n",
       "    <tr>\n",
       "      <th>0</th>\n",
       "      <td>dasi</td>\n",
       "      <td>female</td>\n",
       "      <td>4</td>\n",
       "      <td>d</td>\n",
       "      <td>i</td>\n",
       "      <td>ds</td>\n",
       "      <td>True</td>\n",
       "      <td>False</td>\n",
       "      <td>ai</td>\n",
       "      <td>2</td>\n",
       "      <td>2</td>\n",
       "    </tr>\n",
       "    <tr>\n",
       "      <th>1</th>\n",
       "      <td>marius</td>\n",
       "      <td>male</td>\n",
       "      <td>6</td>\n",
       "      <td>m</td>\n",
       "      <td>s</td>\n",
       "      <td>mrs</td>\n",
       "      <td>False</td>\n",
       "      <td>False</td>\n",
       "      <td>aiu</td>\n",
       "      <td>3</td>\n",
       "      <td>3</td>\n",
       "    </tr>\n",
       "    <tr>\n",
       "      <th>2</th>\n",
       "      <td>marlene</td>\n",
       "      <td>female</td>\n",
       "      <td>7</td>\n",
       "      <td>m</td>\n",
       "      <td>e</td>\n",
       "      <td>mrln</td>\n",
       "      <td>True</td>\n",
       "      <td>False</td>\n",
       "      <td>aee</td>\n",
       "      <td>3</td>\n",
       "      <td>4</td>\n",
       "    </tr>\n",
       "    <tr>\n",
       "      <th>3</th>\n",
       "      <td>margaret</td>\n",
       "      <td>female</td>\n",
       "      <td>8</td>\n",
       "      <td>m</td>\n",
       "      <td>t</td>\n",
       "      <td>mrgrt</td>\n",
       "      <td>False</td>\n",
       "      <td>False</td>\n",
       "      <td>aae</td>\n",
       "      <td>3</td>\n",
       "      <td>5</td>\n",
       "    </tr>\n",
       "    <tr>\n",
       "      <th>4</th>\n",
       "      <td>nickie</td>\n",
       "      <td>female</td>\n",
       "      <td>6</td>\n",
       "      <td>n</td>\n",
       "      <td>e</td>\n",
       "      <td>nck</td>\n",
       "      <td>True</td>\n",
       "      <td>False</td>\n",
       "      <td>iie</td>\n",
       "      <td>3</td>\n",
       "      <td>3</td>\n",
       "    </tr>\n",
       "  </tbody>\n",
       "</table>\n",
       "</div>"
      ],
      "text/plain": [
       "       name  gender  length first_letter last_letter consonants  \\\n",
       "0      dasi  female       4            d           i         ds   \n",
       "1    marius    male       6            m           s        mrs   \n",
       "2   marlene  female       7            m           e       mrln   \n",
       "3  margaret  female       8            m           t      mrgrt   \n",
       "4    nickie  female       6            n           e        nck   \n",
       "\n",
       "   vowel_last_letter  vowel_first_letter vowels  vowel_count  consonant_count  \n",
       "0               True               False     ai            2                2  \n",
       "1              False               False    aiu            3                3  \n",
       "2               True               False    aee            3                4  \n",
       "3              False               False    aae            3                5  \n",
       "4               True               False    iie            3                3  "
      ]
     },
     "execution_count": 6,
     "metadata": {},
     "output_type": "execute_result"
    },
    {
     "data": {
      "text/html": [
       "<div>\n",
       "<style scoped>\n",
       "    .dataframe tbody tr th:only-of-type {\n",
       "        vertical-align: middle;\n",
       "    }\n",
       "\n",
       "    .dataframe tbody tr th {\n",
       "        vertical-align: top;\n",
       "    }\n",
       "\n",
       "    .dataframe thead th {\n",
       "        text-align: right;\n",
       "    }\n",
       "</style>\n",
       "<table border=\"1\" class=\"dataframe\">\n",
       "  <thead>\n",
       "    <tr style=\"text-align: right;\">\n",
       "      <th></th>\n",
       "      <th>length</th>\n",
       "      <th>vowel_last_letter</th>\n",
       "      <th>vowel_first_letter</th>\n",
       "      <th>vowel_count</th>\n",
       "      <th>consonant_count</th>\n",
       "    </tr>\n",
       "    <tr>\n",
       "      <th>gender</th>\n",
       "      <th></th>\n",
       "      <th></th>\n",
       "      <th></th>\n",
       "      <th></th>\n",
       "      <th></th>\n",
       "    </tr>\n",
       "  </thead>\n",
       "  <tbody>\n",
       "    <tr>\n",
       "      <th>female</th>\n",
       "      <td>6.113577</td>\n",
       "      <td>0.712258</td>\n",
       "      <td>0.171366</td>\n",
       "      <td>2.649670</td>\n",
       "      <td>3.463907</td>\n",
       "    </tr>\n",
       "    <tr>\n",
       "      <th>male</th>\n",
       "      <td>5.895345</td>\n",
       "      <td>0.246007</td>\n",
       "      <td>0.153245</td>\n",
       "      <td>2.192321</td>\n",
       "      <td>3.703024</td>\n",
       "    </tr>\n",
       "  </tbody>\n",
       "</table>\n",
       "</div>"
      ],
      "text/plain": [
       "          length  vowel_last_letter  vowel_first_letter  vowel_count  \\\n",
       "gender                                                                 \n",
       "female  6.113577           0.712258            0.171366     2.649670   \n",
       "male    5.895345           0.246007            0.153245     2.192321   \n",
       "\n",
       "        consonant_count  \n",
       "gender                   \n",
       "female         3.463907  \n",
       "male           3.703024  "
      ]
     },
     "execution_count": 6,
     "metadata": {},
     "output_type": "execute_result"
    }
   ],
   "source": [
    "# use our created variables to generate some summary statistics\n",
    "# create various feature columns for exploration\n",
    "data['length'] = data['name'].str.len()\n",
    "data['first_letter'] = data['name'].str[0]\n",
    "data['last_letter'] = data['name'].str[-1]\n",
    "data['consonants'] = data['name'].str.replace(r'[aeiou]', '')\n",
    "data['vowel_last_letter'] = data['last_letter'].isin([*'aeiou'])\n",
    "data['vowel_first_letter'] = data['first_letter'].isin([*'aeiou'])\n",
    "data['vowels'] = data['name'].str.replace(r'[^aeiou]', '')\n",
    "data['vowel_count'] = data['vowels'].str.len()\n",
    "data['consonant_count'] = data['consonants'].str.len()\n",
    "data.head()\n",
    "\n",
    "data.groupby('gender').mean()"
   ]
  },
  {
   "cell_type": "markdown",
   "metadata": {},
   "source": [
    "# Based on the above chart, we see that females have a higher name length on average, higher vowel counts, and the last letter is 72% of the time a vowel. These appear to be good predictors along with the first and last letter as per the plot below. We would also see the plot based on other features and we see that the other features like vowel_count,consonant count do not make much difference."
   ]
  },
  {
   "cell_type": "code",
   "execution_count": 7,
   "metadata": {},
   "outputs": [
    {
     "data": {
      "image/png": "[encoded data removed]",
      "text/plain": [
       "<Figure size 864x432 with 4 Axes>"
      ]
     },
     "metadata": {
      "needs_background": "light"
     },
     "output_type": "display_data"
    },
    {
     "name": "stderr",
     "output_type": "stream",
     "text": [
      "C:\\Users\\Deepak\\anaconda3\\lib\\site-packages\\seaborn\\categorical.py:3793: UserWarning: Setting `sharex=False` with `color=None` may cause different levels of the `x` variable to share colors. This will change in a future version.\n",
      "  warnings.warn(msg.format(\"sharex\", \"x\"), UserWarning)\n"
     ]
    },
    {
     "data": {
      "image/png": "[encoded data removed]",
      "text/plain": [
       "<Figure size 864x648 with 6 Axes>"
      ]
     },
     "metadata": {
      "needs_background": "light"
     },
     "output_type": "display_data"
    }
   ],
   "source": [
    "# plot for gender based on first and last letter\n",
    "firstandlastletter_genderbasedpredictiondata = pd.melt(data[['gender','first_letter','last_letter']],id_vars=['gender'])\n",
    "\n",
    "\n",
    "sns.catplot(x = 'value',col='gender',row='variable',kind='count',data=firstandlastletter_genderbasedpredictiondata,\n",
    "            order = list(string.ascii_lowercase), sharey = False, height=3, aspect=2)\n",
    "\n",
    "plt.show();\n",
    "\n",
    "\n",
    "data_melted = pd.melt(data[['gender','length','vowel_count','consonant_count']],id_vars=['gender'])\n",
    "\n",
    "sns.catplot(x = 'value',col='gender',row='variable',kind='count',data=data_melted,\n",
    "            sharey = False, sharex=False, height=3, aspect=2)\n",
    "\n",
    "plt.show();"
   ]
  },
  {
   "cell_type": "markdown",
   "metadata": {},
   "source": [
    "# Baseline feature  set - Includes only last character of word"
   ]
  },
  {
   "cell_type": "code",
   "execution_count": 8,
   "metadata": {},
   "outputs": [],
   "source": [
    "## baseline feature set: to check others against minimum performance\n",
    "def baseFeatures(name):\n",
    "    name=name.lower()\n",
    "    return {\n",
    "        'last_letter': name[-1]\n",
    "        }"
   ]
  },
  {
   "cell_type": "markdown",
   "metadata": {},
   "source": [
    "# Feature 2 set - Adds last two characters as suffix and whether last letter is a vowel."
   ]
  },
  {
   "cell_type": "code",
   "execution_count": 9,
   "metadata": {},
   "outputs": [],
   "source": [
    "## adds last vowel and last 2 char suffix\n",
    "def gender_features2(word):\n",
    "    return {'suffix1': word[-1],\n",
    "            'suffix2': word[-2:],\n",
    "            'last_is_vowel' : (word[-1] in 'aeiouy')}"
   ]
  },
  {
   "cell_type": "markdown",
   "metadata": {},
   "source": [
    "# Feature 3 set - feature extractor to include features for two-letter suffixes."
   ]
  },
  {
   "cell_type": "code",
   "execution_count": 10,
   "metadata": {},
   "outputs": [],
   "source": [
    "def gender_features3(word):\n",
    "    return {'suffix1': word[-1:],\n",
    "            'suffix2': word[-2:]\n",
    "           }"
   ]
  },
  {
   "cell_type": "code",
   "execution_count": 11,
   "metadata": {},
   "outputs": [],
   "source": [
    "def count_syllables(word):\n",
    "    return len(\n",
    "        re.findall('(?!e$)[aeiouy]+', word, re.I) +\n",
    "        re.findall('^[^aeiouy]*e$', word, re.I)\n",
    "    )\n"
   ]
  },
  {
   "cell_type": "markdown",
   "metadata": {},
   "source": [
    "# Feature 4 set - Adds syllable count."
   ]
  },
  {
   "cell_type": "code",
   "execution_count": 12,
   "metadata": {},
   "outputs": [],
   "source": [
    "def gender_features4(word):\n",
    "    return {\n",
    "        'last_letter': word[-1],\n",
    "        'last_two': word[-2:],\n",
    "        'last_is_vowel': (word[-1] in 'aeiouy'),\n",
    "        'num_syll': count_syllables(word)\n",
    "    }"
   ]
  },
  {
   "cell_type": "markdown",
   "metadata": {},
   "source": [
    "# Building a classifier based on naive Bayes\n",
    "    We start with the baseFeatures set only examining last character in name, then compare to different gender_features versions ."
   ]
  },
  {
   "cell_type": "code",
   "execution_count": 13,
   "metadata": {},
   "outputs": [
    {
     "name": "stdout",
     "output_type": "stream",
     "text": [
      "Development set accuracy 0.772\n",
      "Test_Set set accuracy 0.75\n"
     ]
    }
   ],
   "source": [
    "#Base featureset, last letter only\n",
    "## baseFeatures\n",
    "results = []\n",
    "train_set = [(baseFeatures(n), g) for (n,g) in train_names]\n",
    "devtest_set = [(baseFeatures(n), g) for (n,g) in devtest_names]\n",
    "test_set = [(baseFeatures(n), g) for (n,g) in test_names]\n",
    "nbclassifier = nltk.NaiveBayesClassifier.train(train_set) \n",
    "print (\"Development set accuracy \" + str(nltk.classify.accuracy(nbclassifier, devtest_set)))\n",
    "\n",
    "nb1 = nltk.classify.accuracy(nbclassifier, test_set)\n",
    "results.append(nb1)\n",
    "print (\"Test_Set set accuracy \" + str(nb1))"
   ]
  },
  {
   "cell_type": "code",
   "execution_count": null,
   "metadata": {},
   "outputs": [],
   "source": [
    "#Our accuracy was not too bad for a first attempt, but we wanted to do better so took a look at the errors to see if there were any obvious patterns."
   ]
  },
  {
   "cell_type": "code",
   "execution_count": 19,
   "metadata": {},
   "outputs": [
    {
     "name": "stdout",
     "output_type": "stream",
     "text": [
      "correct=female   guess=male     name=abigail                       \n",
      "correct=female   guess=male     name=alisun                        \n",
      "correct=female   guess=male     name=allis                         \n",
      "correct=female   guess=male     name=ardeen                        \n",
      "correct=female   guess=male     name=bel                           \n",
      "correct=female   guess=male     name=bridgett                      \n",
      "correct=female   guess=male     name=brit                          \n",
      "correct=female   guess=male     name=brynn                         \n",
      "correct=female   guess=male     name=caron                         \n",
      "correct=female   guess=male     name=cass                          \n",
      "correct=female   guess=male     name=charo                         \n",
      "correct=female   guess=male     name=cyb                           \n",
      "correct=female   guess=male     name=daloris                       \n",
      "correct=female   guess=male     name=darleen                       \n",
      "correct=female   guess=male     name=darryl                        \n",
      "correct=female   guess=male     name=deb                           \n",
      "correct=female   guess=male     name=dionis                        \n",
      "correct=female   guess=male     name=drew                          \n",
      "correct=female   guess=male     name=eleanor                       \n",
      "correct=female   guess=male     name=elisabet                      \n",
      "correct=female   guess=male     name=em                            \n",
      "correct=female   guess=male     name=frank                         \n",
      "correct=female   guess=male     name=gaynor                        \n",
      "correct=female   guess=male     name=gen                           \n",
      "correct=female   guess=male     name=glenn                         \n",
      "correct=female   guess=male     name=greer                         \n",
      "correct=female   guess=male     name=harriott                      \n",
      "correct=female   guess=male     name=hester                        \n",
      "correct=female   guess=male     name=inez                          \n",
      "correct=female   guess=male     name=isabeau                       \n",
      "correct=female   guess=male     name=iseabal                       \n",
      "correct=female   guess=male     name=jen                           \n",
      "correct=female   guess=male     name=jo-ann                        \n",
      "correct=female   guess=male     name=joann                         \n",
      "correct=female   guess=male     name=karil                         \n",
      "correct=female   guess=male     name=karyn                         \n",
      "correct=female   guess=male     name=kirsten                       \n",
      "correct=female   guess=male     name=kirstin                       \n",
      "correct=female   guess=male     name=kirstyn                       \n",
      "correct=female   guess=male     name=kyrstin                       \n",
      "correct=female   guess=male     name=lian                          \n",
      "correct=female   guess=male     name=linnell                       \n",
      "correct=female   guess=male     name=madelon                       \n",
      "correct=female   guess=male     name=manon                         \n",
      "correct=female   guess=male     name=marabel                       \n",
      "correct=female   guess=male     name=marion                        \n",
      "correct=female   guess=male     name=meghan                        \n",
      "correct=female   guess=male     name=millisent                     \n",
      "correct=female   guess=male     name=nariko                        \n",
      "correct=female   guess=male     name=nert                          \n",
      "correct=female   guess=male     name=phyllys                       \n",
      "correct=female   guess=male     name=riannon                       \n",
      "correct=female   guess=male     name=robin                         \n",
      "correct=female   guess=male     name=robyn                         \n",
      "correct=female   guess=male     name=roslyn                        \n",
      "correct=male     guess=female   name=abby                          \n",
      "correct=male     guess=female   name=andy                          \n",
      "correct=male     guess=female   name=arnie                         \n",
      "correct=male     guess=female   name=ashby                         \n",
      "correct=male     guess=female   name=aube                          \n",
      "correct=male     guess=female   name=augie                         \n",
      "correct=male     guess=female   name=avi                           \n",
      "correct=male     guess=female   name=bartie                        \n",
      "correct=male     guess=female   name=carmine                       \n",
      "correct=male     guess=female   name=chaddy                        \n",
      "correct=male     guess=female   name=clarance                      \n",
      "correct=male     guess=female   name=cobbie                        \n",
      "correct=male     guess=female   name=courtney                      \n",
      "correct=male     guess=female   name=cy                            \n",
      "correct=male     guess=female   name=fonsie                        \n",
      "correct=male     guess=female   name=garey                         \n",
      "correct=male     guess=female   name=georgy                        \n",
      "correct=male     guess=female   name=gerri                         \n",
      "correct=male     guess=female   name=guillaume                     \n",
      "correct=male     guess=female   name=guthrie                       \n",
      "correct=male     guess=female   name=hersh                         \n",
      "correct=male     guess=female   name=humphrey                      \n",
      "correct=male     guess=female   name=jamie                         \n",
      "correct=male     guess=female   name=jeramie                       \n",
      "correct=male     guess=female   name=jessey                        \n",
      "correct=male     guess=female   name=lanny                         \n",
      "correct=male     guess=female   name=laurance                      \n",
      "correct=male     guess=female   name=levy                          \n",
      "correct=male     guess=female   name=lyle                          \n",
      "correct=male     guess=female   name=meredith                      \n",
      "correct=male     guess=female   name=merle                         \n",
      "correct=male     guess=female   name=mugsy                         \n",
      "correct=male     guess=female   name=murdoch                       \n",
      "correct=male     guess=female   name=murray                        \n",
      "correct=male     guess=female   name=patsy                         \n",
      "correct=male     guess=female   name=pierce                        \n",
      "correct=male     guess=female   name=pryce                         \n",
      "correct=male     guess=female   name=quincey                       \n",
      "correct=male     guess=female   name=reggie                        \n",
      "correct=male     guess=female   name=reilly                        \n",
      "correct=male     guess=female   name=rikki                         \n",
      "correct=male     guess=female   name=robbie                        \n",
      "correct=male     guess=female   name=rolph                         \n",
      "correct=male     guess=female   name=sansone                       \n",
      "correct=male     guess=female   name=skippie                       \n",
      "correct=male     guess=female   name=smith                         \n",
      "correct=male     guess=female   name=stanleigh                     \n",
      "correct=male     guess=female   name=terrence                      \n",
      "correct=male     guess=female   name=thornie                       \n",
      "correct=male     guess=female   name=towny                         \n",
      "correct=male     guess=female   name=tye                           \n",
      "correct=male     guess=female   name=vinnie                        \n",
      "correct=male     guess=female   name=virge                         \n",
      "correct=male     guess=female   name=wadsworth                     \n",
      "correct=male     guess=female   name=ware                          \n",
      "correct=male     guess=female   name=waverley                      \n",
      "correct=male     guess=female   name=welbie                        \n",
      "correct=male     guess=female   name=yankee                        \n",
      "correct=male     guess=female   name=yuri                          \n"
     ]
    }
   ],
   "source": [
    "def error_list(devtest_names, feature_extractor):\n",
    "    errors = []\n",
    "    for (name, tag) in devtest_names:\n",
    "        guess = nbclassifier.classify(feature_extractor(name))\n",
    "        if guess != tag:\n",
    "            errors.append((tag, guess, name))\n",
    "    for (tag, guess, features) in sorted(errors):\n",
    "        print('correct=%-8s guess=%-8s name=%-30s' % (tag, guess, features))\n",
    "    return errors\n",
    "\n",
    "errors = error_list(devtest_names, baseFeatures)"
   ]
  },
  {
   "cell_type": "markdown",
   "metadata": {},
   "source": [
    "# Looking at the errors didn't reveal any obvious patterns but the textbook indicated that the last two letters were a good indicator in addition to just the last letter. Now let us check the accuracy with the other feature set we think will have better results. According to the textbook, \"Each time the error analysis procedure is repeated, we should select a different dev-test/training split, to ensure that the classifier does not start to reflect idiosyncrasies in the dev-test set.\" So we reshuffled our training data to get a new split for the train and devtest sets."
   ]
  },
  {
   "cell_type": "code",
   "execution_count": 20,
   "metadata": {},
   "outputs": [
    {
     "name": "stdout",
     "output_type": "stream",
     "text": [
      "Feature set 2 - Development set accuracy 0.824\n",
      "Feature set 2- Test_Set set accuracy 0.77\n"
     ]
    }
   ],
   "source": [
    "#feature set 2\n",
    "\n",
    "# shuffle the dev_set_names to get a new split\n",
    "random.seed(25)\n",
    "random.shuffle(devtest_names)\n",
    "\n",
    "\n",
    "\n",
    "train_set = [(gender_features2(n), g) for (n,g) in train_names]\n",
    "devtest_set = [(gender_features2(n), g) for (n,g) in devtest_names]\n",
    "test_set = [(gender_features2(n), g) for (n,g) in test_names]\n",
    "\n",
    "nbclassifier2 = nltk.NaiveBayesClassifier.train(devtest_set) \n",
    "print (\"Feature set 2 - Development set accuracy \" + str(nltk.classify.accuracy(nbclassifier2, devtest_set)))\n",
    "\n",
    "\n",
    "ngf2 = nltk.classify.accuracy(nbclassifier2, test_set)\n",
    "results.append(ngf2)\n",
    "print (\"Feature set 2- Test_Set set accuracy \" + str(ngf2))\n"
   ]
  },
  {
   "cell_type": "code",
   "execution_count": null,
   "metadata": {},
   "outputs": [],
   "source": [
    "# let's check the error list this time"
   ]
  },
  {
   "cell_type": "code",
   "execution_count": 21,
   "metadata": {},
   "outputs": [
    {
     "name": "stdout",
     "output_type": "stream",
     "text": [
      "correct=male     guess=female   name=abby                          \n",
      "correct=male     guess=female   name=alessandro                    \n",
      "correct=male     guess=female   name=andy                          \n",
      "correct=male     guess=female   name=anson                         \n",
      "correct=male     guess=female   name=armand                        \n",
      "correct=male     guess=female   name=arnie                         \n",
      "correct=male     guess=female   name=arnoldo                       \n",
      "correct=male     guess=female   name=ashby                         \n",
      "correct=male     guess=female   name=aube                          \n",
      "correct=male     guess=female   name=augie                         \n",
      "correct=male     guess=female   name=avi                           \n",
      "correct=male     guess=female   name=barnett                       \n",
      "correct=male     guess=female   name=bartholomeo                   \n",
      "correct=male     guess=female   name=bartie                        \n",
      "correct=male     guess=female   name=bartolomeo                    \n",
      "correct=male     guess=female   name=barton                        \n",
      "correct=male     guess=female   name=bharat                        \n",
      "correct=male     guess=female   name=briggs                        \n",
      "correct=male     guess=female   name=cal                           \n",
      "correct=male     guess=female   name=carmine                       \n",
      "correct=male     guess=female   name=casper                        \n",
      "correct=male     guess=female   name=cesar                         \n",
      "correct=male     guess=female   name=chaddy                        \n",
      "correct=male     guess=female   name=chan                          \n",
      "correct=male     guess=female   name=chen                          \n",
      "correct=male     guess=female   name=chester                       \n",
      "correct=male     guess=female   name=clarance                      \n",
      "correct=male     guess=female   name=cobbie                        \n",
      "correct=male     guess=female   name=conan                         \n",
      "correct=male     guess=female   name=cornellis                     \n",
      "correct=male     guess=female   name=courtney                      \n",
      "correct=male     guess=female   name=craig                         \n",
      "correct=male     guess=female   name=cy                            \n",
      "correct=male     guess=female   name=damien                        \n",
      "correct=male     guess=female   name=darian                        \n",
      "correct=male     guess=female   name=delbert                       \n",
      "correct=male     guess=female   name=derron                        \n",
      "correct=male     guess=female   name=desmond                       \n",
      "correct=male     guess=female   name=devin                         \n",
      "correct=male     guess=female   name=douglis                       \n",
      "correct=male     guess=female   name=easton                        \n",
      "correct=male     guess=female   name=edgardo                       \n",
      "correct=male     guess=female   name=elihu                         \n",
      "correct=male     guess=female   name=eliot                         \n",
      "correct=male     guess=female   name=enrico                        \n",
      "correct=male     guess=female   name=erik                          \n",
      "correct=male     guess=female   name=ervin                         \n",
      "correct=male     guess=female   name=everett                       \n",
      "correct=male     guess=female   name=fleming                       \n",
      "correct=male     guess=female   name=fonsie                        \n",
      "correct=male     guess=female   name=forrester                     \n",
      "correct=male     guess=female   name=frank                         \n",
      "correct=male     guess=female   name=frans                         \n",
      "correct=male     guess=female   name=fraser                        \n",
      "correct=male     guess=female   name=gallagher                     \n",
      "correct=male     guess=female   name=gardiner                      \n",
      "correct=male     guess=female   name=garey                         \n",
      "correct=male     guess=female   name=garfield                      \n",
      "correct=male     guess=female   name=garv                          \n",
      "correct=male     guess=female   name=georgy                        \n",
      "correct=male     guess=female   name=gerri                         \n",
      "correct=male     guess=female   name=gifford                       \n",
      "correct=male     guess=female   name=gill                          \n",
      "correct=male     guess=female   name=gregor                        \n",
      "correct=male     guess=female   name=guillaume                     \n",
      "correct=male     guess=female   name=gunner                        \n",
      "correct=male     guess=female   name=gustavo                       \n",
      "correct=male     guess=female   name=guthrie                       \n",
      "correct=male     guess=female   name=hallam                        \n",
      "correct=male     guess=female   name=hammad                        \n",
      "correct=male     guess=female   name=harlin                        \n",
      "correct=male     guess=female   name=harold                        \n",
      "correct=male     guess=female   name=haskel                        \n",
      "correct=male     guess=female   name=haskell                       \n",
      "correct=male     guess=female   name=hersh                         \n",
      "correct=male     guess=female   name=hillel                        \n",
      "correct=male     guess=female   name=hiralal                       \n",
      "correct=male     guess=female   name=humphrey                      \n",
      "correct=male     guess=female   name=israel                        \n",
      "correct=male     guess=female   name=jamie                         \n",
      "correct=male     guess=female   name=jason                         \n",
      "correct=male     guess=female   name=jens                          \n",
      "correct=male     guess=female   name=jeramie                       \n",
      "correct=male     guess=female   name=jessey                        \n",
      "correct=male     guess=female   name=joachim                       \n",
      "correct=male     guess=female   name=johan                         \n",
      "correct=male     guess=female   name=julian                        \n",
      "correct=male     guess=female   name=keil                          \n",
      "correct=male     guess=female   name=kenyon                        \n",
      "correct=male     guess=female   name=kimball                       \n",
      "correct=male     guess=female   name=kincaid                       \n",
      "correct=male     guess=female   name=konstantin                    \n",
      "correct=male     guess=female   name=kostas                        \n",
      "correct=male     guess=female   name=lanny                         \n",
      "correct=male     guess=female   name=laurance                      \n",
      "correct=male     guess=female   name=len                           \n",
      "correct=male     guess=female   name=leo                           \n",
      "correct=male     guess=female   name=leonid                        \n",
      "correct=male     guess=female   name=levy                          \n",
      "correct=male     guess=female   name=lyle                          \n",
      "correct=male     guess=female   name=marc                          \n",
      "correct=male     guess=female   name=marlin                        \n",
      "correct=male     guess=female   name=marshall                      \n",
      "correct=male     guess=female   name=marven                        \n",
      "correct=male     guess=female   name=maurits                       \n",
      "correct=male     guess=female   name=maxfield                      \n",
      "correct=male     guess=female   name=meredith                      \n",
      "correct=male     guess=female   name=merle                         \n",
      "correct=male     guess=female   name=mitchael                      \n",
      "correct=male     guess=female   name=mohamed                       \n",
      "correct=male     guess=female   name=mugsy                         \n",
      "correct=male     guess=female   name=murdoch                       \n",
      "correct=male     guess=female   name=murray                        \n",
      "correct=male     guess=female   name=nealon                        \n",
      "correct=male     guess=female   name=niall                         \n",
      "correct=male     guess=female   name=nils                          \n",
      "correct=male     guess=female   name=odysseus                      \n",
      "correct=male     guess=female   name=othello                       \n",
      "correct=male     guess=female   name=pascal                        \n",
      "correct=male     guess=female   name=patrick                       \n",
      "correct=male     guess=female   name=patsy                         \n",
      "correct=male     guess=female   name=peyter                        \n",
      "correct=male     guess=female   name=phil                          \n",
      "correct=male     guess=female   name=philip                        \n",
      "correct=male     guess=female   name=pierce                        \n",
      "correct=male     guess=female   name=pryce                         \n",
      "correct=male     guess=female   name=puff                          \n",
      "correct=male     guess=female   name=quincey                       \n",
      "correct=male     guess=female   name=raj                           \n",
      "correct=male     guess=female   name=raynor                        \n",
      "correct=male     guess=female   name=reggie                        \n",
      "correct=male     guess=female   name=reilly                        \n",
      "correct=male     guess=female   name=remington                     \n",
      "correct=male     guess=female   name=rikki                         \n",
      "correct=male     guess=female   name=robbie                        \n",
      "correct=male     guess=female   name=robert                        \n",
      "correct=male     guess=female   name=roderic                       \n",
      "correct=male     guess=female   name=rodger                        \n",
      "correct=male     guess=female   name=rolph                         \n",
      "correct=male     guess=female   name=rowland                       \n",
      "correct=male     guess=female   name=salvador                      \n",
      "correct=male     guess=female   name=sansone                       \n",
      "correct=male     guess=female   name=sayer                         \n",
      "correct=male     guess=female   name=shamus                        \n",
      "correct=male     guess=female   name=shaw                          \n",
      "correct=male     guess=female   name=sholom                        \n",
      "correct=male     guess=female   name=simmonds                      \n",
      "correct=male     guess=female   name=skippie                       \n",
      "correct=male     guess=female   name=smith                         \n",
      "correct=male     guess=female   name=spencer                       \n",
      "correct=male     guess=female   name=stanleigh                     \n",
      "correct=male     guess=female   name=stanton                       \n",
      "correct=male     guess=female   name=stephanus                     \n",
      "correct=male     guess=female   name=stern                         \n",
      "correct=male     guess=female   name=sturgis                       \n",
      "correct=male     guess=female   name=sullivan                      \n",
      "correct=male     guess=female   name=taddeo                        \n",
      "correct=male     guess=female   name=terrence                      \n",
      "correct=male     guess=female   name=thaddeus                      \n",
      "correct=male     guess=female   name=theophyllus                   \n",
      "correct=male     guess=female   name=thornie                       \n",
      "correct=male     guess=female   name=titos                         \n",
      "correct=male     guess=female   name=tobin                         \n",
      "correct=male     guess=female   name=towny                         \n",
      "correct=male     guess=female   name=trever                        \n",
      "correct=male     guess=female   name=tudor                         \n",
      "correct=male     guess=female   name=tye                           \n",
      "correct=male     guess=female   name=upton                         \n",
      "correct=male     guess=female   name=urbanus                       \n",
      "correct=male     guess=female   name=vinnie                        \n",
      "correct=male     guess=female   name=virge                         \n",
      "correct=male     guess=female   name=wadsworth                     \n",
      "correct=male     guess=female   name=wain                          \n",
      "correct=male     guess=female   name=walton                        \n",
      "correct=male     guess=female   name=ward                          \n",
      "correct=male     guess=female   name=ware                          \n",
      "correct=male     guess=female   name=wat                           \n",
      "correct=male     guess=female   name=waverley                      \n",
      "correct=male     guess=female   name=welbie                        \n",
      "correct=male     guess=female   name=wilhelm                       \n",
      "correct=male     guess=female   name=willem                        \n",
      "correct=male     guess=female   name=wilmar                        \n",
      "correct=male     guess=female   name=winthrop                      \n",
      "correct=male     guess=female   name=woodman                       \n",
      "correct=male     guess=female   name=xenos                         \n",
      "correct=male     guess=female   name=xever                         \n",
      "correct=male     guess=female   name=yankee                        \n",
      "correct=male     guess=female   name=yuri                          \n",
      "correct=male     guess=female   name=zorro                         \n"
     ]
    }
   ],
   "source": [
    "errors = error_list(devtest_names, gender_features2)"
   ]
  },
  {
   "cell_type": "code",
   "execution_count": 23,
   "metadata": {},
   "outputs": [
    {
     "name": "stdout",
     "output_type": "stream",
     "text": [
      "Feature set 3 - Development set accuracy 0.84\n",
      "Feature set 3- Test_Set set accuracy 0.762\n"
     ]
    }
   ],
   "source": [
    "#feature set 3\n",
    "# shuffle the dev_set_names to get a new split\n",
    "random.seed(25)\n",
    "random.shuffle(devtest_names)\n",
    "\n",
    "train_set = [(gender_features3(n), g) for (n,g) in train_names]\n",
    "devtest_set = [(gender_features3(n), g) for (n,g) in devtest_names]\n",
    "test_set = [(gender_features3(n), g) for (n,g) in test_names]\n",
    "nbclassifier3 = nltk.NaiveBayesClassifier.train(devtest_set) \n",
    "print (\"Feature set 3 - Development set accuracy \" + str(nltk.classify.accuracy(nbclassifier3, devtest_set)))\n",
    "\n",
    "\n",
    "ngf3 = nltk.classify.accuracy(nbclassifier3, test_set)\n",
    "results.append(ngf3)\n",
    "print (\"Feature set 3- Test_Set set accuracy \" + str(ngf3))\n"
   ]
  },
  {
   "cell_type": "code",
   "execution_count": 25,
   "metadata": {},
   "outputs": [
    {
     "name": "stdout",
     "output_type": "stream",
     "text": [
      "Feature set 4 - Development set accuracy 0.82\n",
      "Feature set 4- Test_Set set accuracy 0.77\n"
     ]
    }
   ],
   "source": [
    "#feature set 4\n",
    "random.seed(25)\n",
    "random.shuffle(devtest_names)\n",
    "\n",
    "train_set = [(gender_features4(n), g) for (n,g) in train_names]\n",
    "devtest_set = [(gender_features4(n), g) for (n,g) in devtest_names]\n",
    "test_set = [(gender_features4(n), g) for (n,g) in test_names]\n",
    "nbclassifier4 = nltk.NaiveBayesClassifier.train(devtest_set) \n",
    "print (\"Feature set 4 - Development set accuracy \" + str(nltk.classify.accuracy(nbclassifier4, devtest_set)))\n",
    "\n",
    "\n",
    "ngf4 = nltk.classify.accuracy(nbclassifier4, test_set)\n",
    "results.append(ngf4)\n",
    "print (\"Feature set 4- Test_Set set accuracy \" + str(ngf4))"
   ]
  },
  {
   "cell_type": "code",
   "execution_count": null,
   "metadata": {},
   "outputs": [],
   "source": [
    "# In most of the cases tried here we see some improvement but need more test for definate conclusion."
   ]
  },
  {
   "cell_type": "code",
   "execution_count": null,
   "metadata": {},
   "outputs": [],
   "source": [
    "#let us see the most informative features(top 10) in 2nd model \n"
   ]
  },
  {
   "cell_type": "code",
   "execution_count": 26,
   "metadata": {},
   "outputs": [
    {
     "name": "stdout",
     "output_type": "stream",
     "text": [
      "Most Informative Features\n",
      "                 suffix2 = 'er'             male : female =      8.0 : 1.0\n",
      "                 suffix1 = 'o'              male : female =      7.4 : 1.0\n",
      "                 suffix1 = 'r'              male : female =      7.0 : 1.0\n",
      "                 suffix1 = 'm'              male : female =      5.9 : 1.0\n",
      "                 suffix2 = 'ne'           female : male   =      5.8 : 1.0\n",
      "                 suffix1 = 's'              male : female =      5.4 : 1.0\n",
      "                 suffix2 = 'll'             male : female =      5.4 : 1.0\n",
      "                 suffix2 = 'an'             male : female =      4.4 : 1.0\n",
      "                 suffix2 = 'ee'           female : male   =      4.3 : 1.0\n",
      "                 suffix2 = 'ey'             male : female =      3.8 : 1.0\n"
     ]
    }
   ],
   "source": [
    "nbclassifier2.show_most_informative_features(10)"
   ]
  },
  {
   "cell_type": "markdown",
   "metadata": {},
   "source": [
    "from IPython.display import YouTubeVideo\n",
    "YouTubeVideo('')\n"
   ]
  },
  {
   "cell_type": "code",
   "execution_count": null,
   "metadata": {},
   "outputs": [],
   "source": []
  }
 ],
 "metadata": {
  "kernelspec": {
   "display_name": "Python 3",
   "language": "python",
   "name": "python3"
  },
  "language_info": {
   "codemirror_mode": {
    "name": "ipython",
    "version": 3
   },
   "file_extension": ".py",
   "mimetype": "text/x-python",
   "name": "python",
   "nbconvert_exporter": "python",
   "pygments_lexer": "ipython3",
   "version": "3.8.5"
  }
 },
 "nbformat": 4,
 "nbformat_minor": 4
}
